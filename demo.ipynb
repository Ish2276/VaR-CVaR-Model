{
  "nbformat": 4,
  "nbformat_minor": 0,
  "metadata": {
    "colab": {
      "provenance": [],
      "authorship_tag": "ABX9TyNn5nH7g6vQusVzN+Erdzkn",
      "include_colab_link": true
    },
    "kernelspec": {
      "name": "python3",
      "display_name": "Python 3"
    },
    "language_info": {
      "name": "python"
    }
  },
  "cells": [
    {
      "cell_type": "markdown",
      "metadata": {
        "id": "view-in-github",
        "colab_type": "text"
      },
      "source": [
        "<a href=\"https://colab.research.google.com/github/Ish2276/VaR-CVaR-Model/blob/main/demo.ipynb\" target=\"_parent\"><img src=\"https://colab.research.google.com/assets/colab-badge.svg\" alt=\"Open In Colab\"/></a>"
      ]
    },
    {
      "cell_type": "code",
      "source": [
        "# Download Historical Prices of the Portfolio Stocks\n",
        "\n",
        "import yfinance as yf\n",
        "import pandas as pd\n",
        "\n",
        "# Define the ticker symbols for the portfolio\n",
        "tickers = ['ASTS', 'RKLB', 'LUNR']\n",
        "\n",
        "# Download historical prices for the portfolio\n",
        "data = yf.download(tickers, start='2022-01-01', end='2024-09-18')['Adj Close']\n",
        "\n",
        "# Calculate daily returns for each stock\n",
        "returns = data.pct_change().dropna()\n",
        "\n",
        "# Preview the data\n",
        "print(returns.head())\n",
        "\n",
        "portfolio_value = 1_000_000  # Portfolio value in dollars (1 million)"
      ],
      "metadata": {
        "colab": {
          "base_uri": "https://localhost:8080/"
        },
        "id": "203lvfmrM2f-",
        "outputId": "410cce54-6280-477e-a497-8eea9c00aa89"
      },
      "execution_count": 21,
      "outputs": [
        {
          "output_type": "stream",
          "name": "stderr",
          "text": [
            "[*********************100%***********************]  3 of 3 completed"
          ]
        },
        {
          "output_type": "stream",
          "name": "stdout",
          "text": [
            "Ticker                         ASTS      LUNR      RKLB\n",
            "Date                                                   \n",
            "2022-01-04 00:00:00+00:00 -0.034063  0.000000 -0.045082\n",
            "2022-01-05 00:00:00+00:00 -0.089421  0.000000 -0.081545\n",
            "2022-01-06 00:00:00+00:00  0.024896  0.000000 -0.004673\n",
            "2022-01-07 00:00:00+00:00  0.006748 -0.003096  0.019718\n",
            "2022-01-10 00:00:00+00:00 -0.054960  0.000000 -0.036832\n"
          ]
        },
        {
          "output_type": "stream",
          "name": "stderr",
          "text": [
            "\n"
          ]
        }
      ]
    },
    {
      "cell_type": "code",
      "source": [
        "# Assign Portfolio Weights\n",
        "\n",
        "from scipy.optimize import minimize\n",
        "\n",
        "def portfolio_performance(weights, returns, risk_free_rate=0.0):\n",
        "    # Calculate portfolio return\n",
        "    portfolio_return = np.sum(returns.mean() * weights) * 252\n",
        "    # Calculate portfolio standard deviation (risk)\n",
        "    portfolio_std = np.sqrt(np.dot(weights.T, np.dot(returns.cov() * 252, weights)))\n",
        "    # Calculate Sharpe ratio\n",
        "    sharpe_ratio = (portfolio_return - risk_free_rate) / portfolio_std\n",
        "    return portfolio_return, portfolio_std, sharpe_ratio\n",
        "\n",
        "def negative_sharpe_ratio(weights, returns, risk_free_rate=0.0):\n",
        "    # Minimize the negative Sharpe Ratio\n",
        "    return -portfolio_performance(weights, returns, risk_free_rate)[2]\n",
        "\n",
        "# Step 2: Set up optimization constraints and bounds\n",
        "def optimize_portfolio(returns, risk_free_rate=0.0):\n",
        "    num_assets = len(returns.columns)\n",
        "    args = (returns, risk_free_rate)\n",
        "\n",
        "    # Initial guess (equal weighting)\n",
        "    initial_weights = num_assets * [1. / num_assets]\n",
        "\n",
        "    # Constraints: weights must sum to 1\n",
        "    constraints = ({'type': 'eq', 'fun': lambda x: np.sum(x) - 1})\n",
        "\n",
        "    # Bounds: Weights can only be between 0 and 1 (long-only portfolio)\n",
        "    bounds = tuple((0, 1) for asset in range(num_assets))\n",
        "\n",
        "    # Optimize the portfolio by minimizing the negative Sharpe Ratio\n",
        "    result = minimize(negative_sharpe_ratio, initial_weights, args=args, method='SLSQP', bounds=bounds, constraints=constraints)\n",
        "\n",
        "    return result\n",
        "\n",
        "# Step 3: Run optimization to get weights that maximize the Sharpe Ratio\n",
        "optimal_result = optimize_portfolio(returns)\n",
        "optimal_weights = optimal_result.x\n",
        "\n",
        "# Step 4: Display the optimal weights and portfolio performance\n",
        "portfolio_return, portfolio_std, sharpe_ratio = portfolio_performance(optimal_weights, returns)\n",
        "\n",
        "print(f\"Optimal Weights: {optimal_weights}\")\n",
        "print(f\"Expected Portfolio Return: {portfolio_return:.2f}\")\n",
        "print(f\"Expected Portfolio Risk (Standard Deviation): {portfolio_std:.2f}\")\n",
        "print(f\"Sharpe Ratio: {sharpe_ratio:.2f}\")"
      ],
      "metadata": {
        "colab": {
          "base_uri": "https://localhost:8080/"
        },
        "id": "uvrZbzBJND4Z",
        "outputId": "22e7244c-44c0-4230-94b9-21bf3527776d"
      },
      "execution_count": 22,
      "outputs": [
        {
          "output_type": "stream",
          "name": "stdout",
          "text": [
            "Optimal Weights: [7.47869639e-01 2.52130361e-01 5.42101086e-17]\n",
            "Expected Portfolio Return: 1.09\n",
            "Expected Portfolio Risk (Standard Deviation): 1.04\n",
            "Sharpe Ratio: 1.05\n"
          ]
        }
      ]
    },
    {
      "cell_type": "code",
      "source": [
        "# Compute the covariance matrix of the daily returns\n",
        "\n",
        "cov_matrix = returns.cov()\n",
        "\n",
        "# Print the covariance matrix\n",
        "print(\"Covariance Matrix:\\n\", cov_matrix)"
      ],
      "metadata": {
        "colab": {
          "base_uri": "https://localhost:8080/"
        },
        "id": "2DZQN_joNqY9",
        "outputId": "5c175857-662e-4673-a93d-693b7a8ebec7"
      },
      "execution_count": 23,
      "outputs": [
        {
          "output_type": "stream",
          "name": "stdout",
          "text": [
            "Covariance Matrix:\n",
            " Ticker      ASTS      LUNR      RKLB\n",
            "Ticker                              \n",
            "ASTS    0.005663  0.000306  0.000985\n",
            "LUNR    0.000306  0.015978  0.000034\n",
            "RKLB    0.000985  0.000034  0.001811\n"
          ]
        }
      ]
    },
    {
      "cell_type": "code",
      "source": [
        "# Calculate portfolio variance and standard deviation (volatility)\n",
        "portfolio_variance = np.dot(optimal_weights, np.dot(cov_matrix, optimal_weights))\n",
        "portfolio_volatility = np.sqrt(portfolio_variance)\n",
        "\n",
        "print(f\"Portfolio Volatility: {portfolio_volatility * 100:.2f}%\")"
      ],
      "metadata": {
        "colab": {
          "base_uri": "https://localhost:8080/"
        },
        "id": "QPzuDpcIN2ZL",
        "outputId": "0361645f-91f1-4abc-d96b-e2376875e416"
      },
      "execution_count": 24,
      "outputs": [
        {
          "output_type": "stream",
          "name": "stdout",
          "text": [
            "Portfolio Volatility: 6.56%\n"
          ]
        }
      ]
    },
    {
      "cell_type": "code",
      "source": [
        "# Calculate Portfolio VaR Using Variance-Covariance Method\n",
        "\n",
        "from scipy.stats import norm\n",
        "\n",
        "def portfolio_var(portfolio_volatility, confidence_level=0.95):\n",
        "    # Use the inverse of the cumulative distribution function (ppf) of the normal distribution\n",
        "    alpha = norm.ppf(1 - confidence_level)\n",
        "    return portfolio_volatility * alpha\n",
        "\n",
        "# Calculate 95% VaR using Variance-Covariance method\n",
        "var_95 = portfolio_var(portfolio_volatility, 0.95)\n",
        "var_95_value = var_95 * portfolio_value  # Scaling by portfolio value\n",
        "print(f\"95% Portfolio VaR (Variance-Covariance): ${var_95_value:.2f}\")\n",
        "print(f\"95% Portfolio VaR (Variance-Covariance): {var_95 * 100:.2f}%\")"
      ],
      "metadata": {
        "colab": {
          "base_uri": "https://localhost:8080/"
        },
        "id": "BFFF67KOO7ds",
        "outputId": "bed6a230-e635-4f2a-fa8a-0ccb41ec1695"
      },
      "execution_count": 32,
      "outputs": [
        {
          "output_type": "stream",
          "name": "stdout",
          "text": [
            "95% Portfolio VaR (Variance-Covariance): $-107844.42\n",
            "95% Portfolio VaR (Variance-Covariance): -10.78%\n"
          ]
        }
      ]
    },
    {
      "cell_type": "code",
      "source": [
        "# Historical Simulation for Portfolio VaR\n",
        "\n",
        "def historical_var_portfolio(returns, weights, confidence_level=0.95):\n",
        "    # Calculate portfolio returns\n",
        "    portfolio_returns = returns.dot(weights)\n",
        "\n",
        "    # Sort the portfolio returns\n",
        "    sorted_returns = portfolio_returns.sort_values()\n",
        "\n",
        "    # Determine the VaR threshold index\n",
        "    index = int((1 - confidence_level) * len(sorted_returns))\n",
        "\n",
        "    # Return the VaR\n",
        "    return sorted_returns.iloc[index]\n",
        "\n",
        "# Calculate 95% VaR using Historical Simulation\n",
        "var_historical_95 = historical_var_portfolio(returns,optimal_weights, 0.95)\n",
        "print(f\"95% Portfolio VaR (Historical Simulation): {var_historical_95 * 100:.2f}%\")"
      ],
      "metadata": {
        "colab": {
          "base_uri": "https://localhost:8080/"
        },
        "id": "xB0hyxUTVaR5",
        "outputId": "5b4f35e6-a4f8-4d33-9589-189b0ce3fa70"
      },
      "execution_count": 26,
      "outputs": [
        {
          "output_type": "stream",
          "name": "stdout",
          "text": [
            "95% Portfolio VaR (Historical Simulation): -6.97%\n"
          ]
        }
      ]
    },
    {
      "cell_type": "code",
      "source": [
        "# Monte Carlo Simulation for Portfolio VaR\n",
        "\n",
        "def monte_carlo_var_portfolio(returns, weights, num_simulations=10000, confidence_level=0.95):\n",
        "    # Calculate portfolio mean and standard deviation\n",
        "    portfolio_mean = np.dot(weights, returns.mean())\n",
        "    portfolio_std = np.sqrt(np.dot(weights, np.dot(returns.cov(), weights)))\n",
        "\n",
        "    # Generate random simulations\n",
        "    simulated_returns = np.random.normal(portfolio_mean, portfolio_std, num_simulations)\n",
        "\n",
        "    # Sort the simulated returns\n",
        "    sorted_simulations = np.sort(simulated_returns)\n",
        "\n",
        "    # Determine the VaR threshold index\n",
        "    index = int((1 - confidence_level) * num_simulations)\n",
        "\n",
        "    # Return the Monte Carlo VaR\n",
        "    return sorted_simulations[index]\n",
        "\n",
        "# Calculate 95% VaR using Monte Carlo Simulation\n",
        "var_monte_carlo_95 = monte_carlo_var_portfolio(returns, optimal_weights, 10000, 0.95)\n",
        "print(f\"95% Portfolio VaR (Monte Carlo): {var_monte_carlo_95 * 100:.2f}%\")"
      ],
      "metadata": {
        "colab": {
          "base_uri": "https://localhost:8080/"
        },
        "id": "5GoMr7dIW2R6",
        "outputId": "e8ddd6de-bd32-444c-9781-a450eaaccdc4"
      },
      "execution_count": 27,
      "outputs": [
        {
          "output_type": "stream",
          "name": "stdout",
          "text": [
            "95% Portfolio VaR (Monte Carlo): -10.12%\n"
          ]
        }
      ]
    },
    {
      "cell_type": "code",
      "source": [
        "# Calculate CVaR (Conditional Value at Risk)\n",
        "def cvar_portfolio(returns, weights, var):\n",
        "    portfolio_returns = returns.dot(weights)\n",
        "    return portfolio_returns[portfolio_returns <= var].mean()\n",
        "\n",
        "cvar_historical_95 = cvar_portfolio(returns, optimal_weights, var_historical_95)\n",
        "cvar_variance_covariance_95 = cvar_portfolio(returns, optimal_weights, var_95)\n",
        "cvar_monte_carlo_95 = cvar_portfolio(returns, optimal_weights, var_monte_carlo_95)\n",
        "\n",
        "print(f\"95% Portfolio CVaR (Historical Simulation): {cvar_historical_95 * 100:.2f}%\")\n",
        "print(f\"95% Portfolio CVaR (Variance-Covariance): {cvar_variance_covariance_95 * 100:.2f}%\")\n",
        "print(f\"95% Portfolio CVaR (Monte Carlo): {cvar_monte_carlo_95 * 100:.2f}%\")"
      ],
      "metadata": {
        "colab": {
          "base_uri": "https://localhost:8080/"
        },
        "id": "Wld3Hp_qkzji",
        "outputId": "291b771a-ad0b-4cb9-c5a1-a943f41f49f2"
      },
      "execution_count": 28,
      "outputs": [
        {
          "output_type": "stream",
          "name": "stdout",
          "text": [
            "95% Portfolio CVaR (Historical Simulation): -10.40%\n",
            "95% Portfolio CVaR (Variance-Covariance): -16.70%\n",
            "95% Portfolio CVaR (Monte Carlo): -16.70%\n"
          ]
        }
      ]
    },
    {
      "cell_type": "code",
      "source": [
        "# Backtest VaR Model\n",
        "def backtest_var(returns, weights, var_estimates, confidence_level=0.95):\n",
        "    portfolio_returns = returns.dot(weights)\n",
        "    actual_exceedances = portfolio_returns[portfolio_returns < -var_estimates].count()\n",
        "    expected_exceedances = (1 - confidence_level) * len(portfolio_returns)\n",
        "\n",
        "    print(f\"Actual Exceedances: {actual_exceedances}\")\n",
        "    print(f\"Expected Exceedances: {expected_exceedances}\")\n",
        "\n",
        "    if actual_exceedances > expected_exceedances:\n",
        "        print(\"Warning: The VaR model underestimates the risk.\")\n",
        "    else:\n",
        "        print(\"The VaR model performs well.\")\n",
        "\n",
        "backtest_var(returns, optimal_weights, var_historical_95)"
      ],
      "metadata": {
        "colab": {
          "base_uri": "https://localhost:8080/"
        },
        "id": "9SFMYh_7k5VT",
        "outputId": "9f0f87ee-b358-46fc-97af-4b6811b1d376"
      },
      "execution_count": 29,
      "outputs": [
        {
          "output_type": "stream",
          "name": "stdout",
          "text": [
            "Actual Exceedances: 620\n",
            "Expected Exceedances: 33.95000000000003\n",
            "Warning: The VaR model underestimates the risk.\n"
          ]
        }
      ]
    },
    {
      "cell_type": "code",
      "source": [
        "# Stress Test the Portfolio\n",
        "def stress_test(returns, weights, shock_percentage=-0.1):\n",
        "    stressed_returns = returns * (1 + shock_percentage)\n",
        "    var_stressed_95 = historical_var_portfolio(stressed_returns, weights, 0.95)\n",
        "    cvar_stressed_95 = cvar_portfolio(stressed_returns, weights, var_stressed_95)\n",
        "\n",
        "    print(f\"95% Portfolio VaR after {shock_percentage*100:.1f}% shock: {var_stressed_95 * 100:.2f}%\")\n",
        "    print(f\"95% Portfolio CVaR after {shock_percentage*100:.1f}% shock: {cvar_stressed_95 * 100:.2f}%\")\n",
        "\n",
        "# Example: Stress test with a 10% price drop\n",
        "stress_test(returns, optimal_weights, shock_percentage=-0.1)\n",
        "\n",
        "print(\"hello\")"
      ],
      "metadata": {
        "colab": {
          "base_uri": "https://localhost:8080/",
          "height": 216
        },
        "id": "cNa4BwNFlLZ0",
        "outputId": "9cef37fb-eacd-42f4-d0c6-fab29adbc039"
      },
      "execution_count": 1,
      "outputs": [
        {
          "output_type": "error",
          "ename": "NameError",
          "evalue": "name 'returns' is not defined",
          "traceback": [
            "\u001b[0;31m---------------------------------------------------------------------------\u001b[0m",
            "\u001b[0;31mNameError\u001b[0m                                 Traceback (most recent call last)",
            "\u001b[0;32m<ipython-input-1-77cf258d1cc0>\u001b[0m in \u001b[0;36m<cell line: 11>\u001b[0;34m()\u001b[0m\n\u001b[1;32m      9\u001b[0m \u001b[0;34m\u001b[0m\u001b[0m\n\u001b[1;32m     10\u001b[0m \u001b[0;31m# Example: Stress test with a 10% price drop\u001b[0m\u001b[0;34m\u001b[0m\u001b[0;34m\u001b[0m\u001b[0m\n\u001b[0;32m---> 11\u001b[0;31m \u001b[0mstress_test\u001b[0m\u001b[0;34m(\u001b[0m\u001b[0mreturns\u001b[0m\u001b[0;34m,\u001b[0m \u001b[0moptimal_weights\u001b[0m\u001b[0;34m,\u001b[0m \u001b[0mshock_percentage\u001b[0m\u001b[0;34m=\u001b[0m\u001b[0;34m-\u001b[0m\u001b[0;36m0.1\u001b[0m\u001b[0;34m)\u001b[0m\u001b[0;34m\u001b[0m\u001b[0;34m\u001b[0m\u001b[0m\n\u001b[0m\u001b[1;32m     12\u001b[0m \u001b[0;34m\u001b[0m\u001b[0m\n\u001b[1;32m     13\u001b[0m \u001b[0mprint\u001b[0m\u001b[0;34m(\u001b[0m\u001b[0;34m\"hello\"\u001b[0m\u001b[0;34m)\u001b[0m\u001b[0;34m\u001b[0m\u001b[0;34m\u001b[0m\u001b[0m\n",
            "\u001b[0;31mNameError\u001b[0m: name 'returns' is not defined"
          ]
        }
      ]
    }
  ]
}