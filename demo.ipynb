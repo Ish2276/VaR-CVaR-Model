{
  "nbformat": 4,
  "nbformat_minor": 0,
  "metadata": {
    "colab": {
      "provenance": [],
      "authorship_tag": "ABX9TyPJ+0t5ZvKhOEhRRnLGj5B/",
      "include_colab_link": true
    },
    "kernelspec": {
      "name": "python3",
      "display_name": "Python 3"
    },
    "language_info": {
      "name": "python"
    }
  },
  "cells": [
    {
      "cell_type": "markdown",
      "metadata": {
        "id": "view-in-github",
        "colab_type": "text"
      },
      "source": [
        "<a href=\"https://colab.research.google.com/github/Ish2276/VaR-CVaR-Model/blob/main/demo.ipynb\" target=\"_parent\"><img src=\"https://colab.research.google.com/assets/colab-badge.svg\" alt=\"Open In Colab\"/></a>"
      ]
    },
    {
      "cell_type": "code",
      "source": [
        "# Download Historical Prices of the Portfolio Stocks\n",
        "\n",
        "import yfinance as yf\n",
        "import pandas as pd\n",
        "import numpy as np\n",
        "\n",
        "# Define the ticker symbols for the portfolio\n",
        "tickers = ['ASTS', 'RKLB', 'LUNR','AAPL','META','GOOG']\n",
        "\n",
        "# Download historical prices for the portfolio\n",
        "data = yf.download(tickers, start='2022-01-01', end='2024-09-18')['Adj Close']\n",
        "\n",
        "# Calculate daily returns for each stock\n",
        "returns = data.pct_change().dropna()\n",
        "\n",
        "# Preview the data\n",
        "print(returns.head())\n",
        "\n",
        "portfolio_value = 1_000_000  # Portfolio value in dollars (1 million)"
      ],
      "metadata": {
        "colab": {
          "base_uri": "https://localhost:8080/"
        },
        "id": "203lvfmrM2f-",
        "outputId": "4c02b156-6f91-4beb-9719-dff98f2bb61c"
      },
      "execution_count": 7,
      "outputs": [
        {
          "output_type": "stream",
          "name": "stderr",
          "text": [
            "[*********************100%***********************]  6 of 6 completed"
          ]
        },
        {
          "output_type": "stream",
          "name": "stdout",
          "text": [
            "Ticker                         AAPL      ASTS      GOOG      LUNR      META  \\\n",
            "Date                                                                          \n",
            "2022-01-04 00:00:00+00:00 -0.012692 -0.034063 -0.004535  0.000000 -0.005937   \n",
            "2022-01-05 00:00:00+00:00 -0.026600 -0.089421 -0.046830  0.000000 -0.036728   \n",
            "2022-01-06 00:00:00+00:00 -0.016693  0.024896 -0.000745  0.000000  0.025573   \n",
            "2022-01-07 00:00:00+00:00  0.000988  0.006748 -0.003973 -0.003096 -0.002015   \n",
            "2022-01-10 00:00:00+00:00  0.000116 -0.054960  0.011456  0.000000 -0.011212   \n",
            "\n",
            "Ticker                         RKLB  \n",
            "Date                                 \n",
            "2022-01-04 00:00:00+00:00 -0.045082  \n",
            "2022-01-05 00:00:00+00:00 -0.081545  \n",
            "2022-01-06 00:00:00+00:00 -0.004673  \n",
            "2022-01-07 00:00:00+00:00  0.019718  \n",
            "2022-01-10 00:00:00+00:00 -0.036832  \n"
          ]
        },
        {
          "output_type": "stream",
          "name": "stderr",
          "text": [
            "\n"
          ]
        }
      ]
    },
    {
      "cell_type": "code",
      "source": [
        "# Assign Portfolio Weights\n",
        "\n",
        "from scipy.optimize import minimize\n",
        "\n",
        "def portfolio_performance(weights, returns, risk_free_rate=0.0):\n",
        "    # Calculate portfolio return\n",
        "    portfolio_return = np.sum(returns.mean() * weights) * 252\n",
        "    # Calculate portfolio standard deviation (risk)\n",
        "    portfolio_std = np.sqrt(np.dot(weights.T, np.dot(returns.cov() * 252, weights)))\n",
        "    # Calculate Sharpe ratio\n",
        "    sharpe_ratio = (portfolio_return - risk_free_rate) / portfolio_std\n",
        "    return portfolio_return, portfolio_std, sharpe_ratio\n",
        "\n",
        "def negative_sharpe_ratio(weights, returns, risk_free_rate=0.0):\n",
        "    # Minimize the negative Sharpe Ratio\n",
        "    return -portfolio_performance(weights, returns, risk_free_rate)[2]\n",
        "\n",
        "# Step 2: Set up optimization constraints and bounds\n",
        "def optimize_portfolio(returns, risk_free_rate=0.0):\n",
        "    num_assets = len(returns.columns)\n",
        "    args = (returns, risk_free_rate)\n",
        "\n",
        "    # Initial guess (equal weighting)\n",
        "    initial_weights = num_assets * [1. / num_assets]\n",
        "\n",
        "    # Constraints: weights must sum to 1\n",
        "    constraints = ({'type': 'eq', 'fun': lambda x: np.sum(x) - 1})\n",
        "\n",
        "    # Bounds: Weights can only be between 0 and 1 (long-only portfolio)\n",
        "    bounds = tuple((0.1, 0.4) for asset in range(num_assets))\n",
        "\n",
        "    # Optimize the portfolio by minimizing the negative Sharpe Ratio\n",
        "    result = minimize(negative_sharpe_ratio, initial_weights, args=args, method='SLSQP', bounds=bounds, constraints=constraints)\n",
        "\n",
        "    return result\n",
        "\n",
        "# Step 3: Run optimization to get weights that maximize the Sharpe Ratio\n",
        "optimal_result = optimize_portfolio(returns)\n",
        "optimal_weights = optimal_result.x\n",
        "\n",
        "# Step 4: Display the optimal weights and portfolio performance\n",
        "portfolio_return, portfolio_std, sharpe_ratio = portfolio_performance(optimal_weights, returns)\n",
        "\n",
        "print(f\"Optimal Weights: {optimal_weights}\")\n",
        "print(f\"Expected Portfolio Return: {portfolio_return:.2f}\")\n",
        "print(f\"Expected Portfolio Risk (Standard Deviation): {portfolio_std:.2f}\")\n",
        "print(f\"Sharpe Ratio: {sharpe_ratio:.2f}\")"
      ],
      "metadata": {
        "colab": {
          "base_uri": "https://localhost:8080/"
        },
        "id": "uvrZbzBJND4Z",
        "outputId": "41ab55a4-c017-411b-cba5-eb3ca54e4f63"
      },
      "execution_count": 25,
      "outputs": [
        {
          "output_type": "stream",
          "name": "stdout",
          "text": [
            "Optimal Weights: [0.1        0.31494707 0.1        0.12513282 0.25992011 0.1       ]\n",
            "Expected Portfolio Return: 0.58\n",
            "Expected Portfolio Risk (Standard Deviation): 0.54\n",
            "Sharpe Ratio: 1.07\n"
          ]
        }
      ]
    },
    {
      "cell_type": "code",
      "source": [
        "# Compute the covariance matrix of the daily returns\n",
        "\n",
        "cov_matrix = returns.cov()\n",
        "\n",
        "# Print the covariance matrix\n",
        "print(\"Covariance Matrix:\\n\", cov_matrix)"
      ],
      "metadata": {
        "colab": {
          "base_uri": "https://localhost:8080/"
        },
        "id": "2DZQN_joNqY9",
        "outputId": "e28c7d5a-27ce-4f0a-c43e-3020a5e8118d"
      },
      "execution_count": 9,
      "outputs": [
        {
          "output_type": "stream",
          "name": "stdout",
          "text": [
            "Covariance Matrix:\n",
            " Ticker      AAPL      ASTS      GOOG      LUNR      META      RKLB\n",
            "Ticker                                                            \n",
            "AAPL    0.000308  0.000352  0.000236 -0.000005  0.000282  0.000299\n",
            "ASTS    0.000352  0.005663  0.000331  0.000306  0.000432  0.000985\n",
            "GOOG    0.000236  0.000331  0.000440  0.000004  0.000404  0.000309\n",
            "LUNR   -0.000005  0.000306  0.000004  0.015978 -0.000099  0.000034\n",
            "META    0.000282  0.000432  0.000404 -0.000099  0.001016  0.000423\n",
            "RKLB    0.000299  0.000985  0.000309  0.000034  0.000423  0.001811\n"
          ]
        }
      ]
    },
    {
      "cell_type": "code",
      "source": [
        "# Calculate portfolio variance and standard deviation (volatility)\n",
        "portfolio_variance = np.dot(optimal_weights, np.dot(cov_matrix, optimal_weights))\n",
        "portfolio_volatility = np.sqrt(portfolio_variance)\n",
        "\n",
        "print(f\"Portfolio Volatility: {portfolio_volatility * 100:.2f}%\")"
      ],
      "metadata": {
        "colab": {
          "base_uri": "https://localhost:8080/"
        },
        "id": "QPzuDpcIN2ZL",
        "outputId": "9bd75dd7-12b0-447d-cdff-9de9a36d1fd4"
      },
      "execution_count": 26,
      "outputs": [
        {
          "output_type": "stream",
          "name": "stdout",
          "text": [
            "Portfolio Volatility: 3.43%\n"
          ]
        }
      ]
    },
    {
      "cell_type": "code",
      "source": [
        "# Calculate Portfolio VaR Using Variance-Covariance Method\n",
        "\n",
        "from scipy.stats import norm\n",
        "\n",
        "def portfolio_var(portfolio_volatility, confidence_level=0.95):\n",
        "    # Use the inverse of the cumulative distribution function (ppf) of the normal distribution\n",
        "    alpha = norm.ppf(1 - confidence_level)\n",
        "    return portfolio_volatility * alpha\n",
        "\n",
        "# Calculate 95% VaR using Variance-Covariance method\n",
        "var_95 = portfolio_var(portfolio_volatility, 0.95)\n",
        "var_95_value = var_95 * portfolio_value  # Scaling by portfolio value\n",
        "print(f\"95% Portfolio VaR (Variance-Covariance): ${var_95_value:.2f}\")\n",
        "print(f\"95% Portfolio VaR (Variance-Covariance): {var_95 * 100:.2f}%\")"
      ],
      "metadata": {
        "colab": {
          "base_uri": "https://localhost:8080/"
        },
        "id": "BFFF67KOO7ds",
        "outputId": "b28b2a72-8328-45a1-e130-53df0300aded"
      },
      "execution_count": 11,
      "outputs": [
        {
          "output_type": "stream",
          "name": "stdout",
          "text": [
            "95% Portfolio VaR (Variance-Covariance): $-63735.57\n",
            "95% Portfolio VaR (Variance-Covariance): -6.37%\n"
          ]
        }
      ]
    },
    {
      "cell_type": "code",
      "source": [
        "# Historical Simulation for Portfolio VaR\n",
        "\n",
        "def historical_var_portfolio(returns, weights, confidence_level=0.95):\n",
        "    # Calculate portfolio returns\n",
        "    portfolio_returns = returns.dot(weights)\n",
        "\n",
        "    # Sort the portfolio returns\n",
        "    sorted_returns = portfolio_returns.sort_values()\n",
        "\n",
        "    # Determine the VaR threshold index\n",
        "    index = int((1 - confidence_level) * len(sorted_returns))\n",
        "\n",
        "    # Return the VaR\n",
        "    return sorted_returns.iloc[index]\n",
        "\n",
        "# Calculate 95% VaR using Historical Simulation\n",
        "var_historical_95 = historical_var_portfolio(returns,optimal_weights, 0.95)\n",
        "var_Historical_95_value = var_historical_95 * portfolio_value  # Scaling by portfolio value\n",
        "print(f\"95% Portfolio VaR (Historical Simulation): ${var_Historical_95_value:.2f}\")\n",
        "print(f\"95% Portfolio VaR (Historical Simulation): {var_historical_95 * 100:.2f}%\")"
      ],
      "metadata": {
        "colab": {
          "base_uri": "https://localhost:8080/"
        },
        "id": "xB0hyxUTVaR5",
        "outputId": "9ff70991-f4c9-4a69-c4bc-b993dd7b2058"
      },
      "execution_count": 27,
      "outputs": [
        {
          "output_type": "stream",
          "name": "stdout",
          "text": [
            "95% Portfolio VaR (Historical Simulation): $-41967.62\n",
            "95% Portfolio VaR (Historical Simulation): -4.20%\n"
          ]
        }
      ]
    },
    {
      "cell_type": "code",
      "source": [
        "# Monte Carlo Simulation for Portfolio VaR\n",
        "\n",
        "def monte_carlo_var_portfolio(returns, weights, num_simulations=10000, confidence_level=0.95):\n",
        "    # Calculate portfolio mean and standard deviation\n",
        "    portfolio_mean = np.dot(weights, returns.mean())\n",
        "    portfolio_std = np.sqrt(np.dot(weights, np.dot(returns.cov(), weights)))\n",
        "\n",
        "    # Generate random simulations\n",
        "    simulated_returns = np.random.normal(portfolio_mean, portfolio_std, num_simulations)\n",
        "\n",
        "    # Sort the simulated returns\n",
        "    sorted_simulations = np.sort(simulated_returns)\n",
        "\n",
        "    # Determine the VaR threshold index\n",
        "    index = int((1 - confidence_level) * num_simulations)\n",
        "\n",
        "    # Return the Monte Carlo VaR\n",
        "    return sorted_simulations[index]\n",
        "\n",
        "# Calculate 95% VaR using Monte Carlo Simulation\n",
        "var_monte_carlo_95 = monte_carlo_var_portfolio(returns, optimal_weights, 10000, 0.95)\n",
        "var_Monte_Carlo_95_value = var_monte_carlo_95 * portfolio_value  # Scaling by portfolio value\n",
        "print(f\"95% Portfolio VaR (Monte Carlo): ${var_Monte_Carlo_95_value:.2f}\")\n",
        "print(f\"95% Portfolio VaR (Monte Carlo): {var_monte_carlo_95 * 100:.2f}%\")"
      ],
      "metadata": {
        "colab": {
          "base_uri": "https://localhost:8080/"
        },
        "id": "5GoMr7dIW2R6",
        "outputId": "3100770c-d903-4e32-8987-bdc0e1044973"
      },
      "execution_count": 18,
      "outputs": [
        {
          "output_type": "stream",
          "name": "stdout",
          "text": [
            "95% Portfolio VaR (Monte Carlo): $-61529.49\n",
            "95% Portfolio VaR (Monte Carlo): -6.15%\n"
          ]
        }
      ]
    },
    {
      "cell_type": "code",
      "source": [
        "# Calculate CVaR (Conditional Value at Risk) %\n",
        "def cvar_portfolio(returns, weights, var):\n",
        "    portfolio_returns = returns.dot(weights)\n",
        "    return portfolio_returns[portfolio_returns <= var].mean()\n",
        "\n",
        "cvar_historical_95 = cvar_portfolio(returns, optimal_weights, var_historical_95)\n",
        "cvar_variance_covariance_95 = cvar_portfolio(returns, optimal_weights, var_95)\n",
        "cvar_monte_carlo_95 = cvar_portfolio(returns, optimal_weights, var_monte_carlo_95)\n",
        "\n",
        "print(f\"95% Portfolio CVaR (Historical Simulation): {cvar_historical_95 * 100:.2f}%\")\n",
        "print(f\"95% Portfolio CVaR (Variance-Covariance): {cvar_variance_covariance_95 * 100:.2f}%\")\n",
        "print(f\"95% Portfolio CVaR (Monte Carlo): {cvar_monte_carlo_95 * 100:.2f}%\")"
      ],
      "metadata": {
        "colab": {
          "base_uri": "https://localhost:8080/"
        },
        "id": "Wld3Hp_qkzji",
        "outputId": "b5330a8a-837d-4b75-fa38-58820092290b"
      },
      "execution_count": 28,
      "outputs": [
        {
          "output_type": "stream",
          "name": "stdout",
          "text": [
            "95% Portfolio CVaR (Historical Simulation): -5.90%\n",
            "95% Portfolio CVaR (Variance-Covariance): -7.77%\n",
            "95% Portfolio CVaR (Monte Carlo): -7.77%\n"
          ]
        }
      ]
    },
    {
      "cell_type": "code",
      "source": [
        "## CVaR Calculation based on historical simulation\n",
        "def cvar_portfolio(returns, weights, var_threshold):\n",
        "    # Calculate portfolio returns\n",
        "    portfolio_returns = returns.dot(weights)\n",
        "\n",
        "    # Filter out returns that are less than or equal to the VaR (losses beyond VaR)\n",
        "    tail_losses = portfolio_returns[portfolio_returns <= var_threshold]\n",
        "\n",
        "    # Calculate the average of those tail losses (this is the CVaR)\n",
        "    if len(tail_losses) > 0:\n",
        "        return tail_losses.mean()\n",
        "    else:\n",
        "        return 0  # Return zero if no losses exceed the VaR threshold"
      ],
      "metadata": {
        "id": "KmoQ7ZWVFYOe"
      },
      "execution_count": 48,
      "outputs": []
    },
    {
      "cell_type": "code",
      "source": [
        "# CVaR Calculation based on  Monte Carlo\n",
        "def monte_carlo_cvar_portfolio(returns, weights, var_threshold, num_simulations=10000):\n",
        "    # Calculate portfolio mean and standard deviation\n",
        "    portfolio_mean = np.dot(weights, returns.mean())\n",
        "    portfolio_std = np.sqrt(np.dot(weights.T, np.dot(returns.cov(), weights)))\n",
        "\n",
        "    # Generate random simulations\n",
        "    simulated_returns = np.random.normal(portfolio_mean, portfolio_std, num_simulations)\n",
        "\n",
        "    # Filter out returns that are less than or equal to the VaR threshold\n",
        "    tail_losses = simulated_returns[simulated_returns <= var_threshold]\n",
        "\n",
        "    # Calculate CVaR as the average of those tail losses\n",
        "    if len(tail_losses) > 0:\n",
        "        return tail_losses.mean()\n",
        "    else:\n",
        "        return 0  # Return zero if no losses exceed the VaR threshold"
      ],
      "metadata": {
        "id": "YHQ_-PmyF8im"
      },
      "execution_count": 50,
      "outputs": []
    },
    {
      "cell_type": "code",
      "source": [
        "#CVaR Calculation based on  Variance-Covariance\n",
        "def variance_covariance_cvar_portfolio(portfolio_mean, portfolio_std, var_threshold):\n",
        "    # Use the normal distribution assumption for portfolio returns\n",
        "    simulated_returns = np.random.normal(portfolio_mean, portfolio_std, 10000)\n",
        "\n",
        "    # Filter out returns that are less than or equal to the VaR threshold\n",
        "    tail_losses = simulated_returns[simulated_returns <= var_threshold]\n",
        "\n",
        "    # Calculate CVaR as the average of those tail losses\n",
        "    if len(tail_losses) > 0:\n",
        "        return tail_losses.mean()\n",
        "    else:\n",
        "        return 0  # Return zero if no losses exceed the VaR threshold"
      ],
      "metadata": {
        "id": "kwmo_N_KGFVa"
      },
      "execution_count": 51,
      "outputs": []
    },
    {
      "cell_type": "code",
      "source": [
        "# prompt: # Calculate CVaR (Conditional Value at Risk) Portfolio Value\n",
        "\n",
        "cvar_historical_95_value = cvar_historical_95 * portfolio_value\n",
        "cvar_variance_covariance_95_value = cvar_variance_covariance_95 * portfolio_value\n",
        "cvar_monte_carlo_95_value = cvar_monte_carlo_95 * portfolio_value\n",
        "\n",
        "print(f\"95% Portfolio CVaR (Historical Simulation): ${cvar_historical_95_value:.2f}\")\n",
        "print(f\"95% Portfolio CVaR (Variance-Covariance): ${cvar_variance_covariance_95_value:.2f}\")\n",
        "print(f\"95% Portfolio CVaR (Monte Carlo): ${cvar_monte_carlo_95_value:.2f}\")\n"
      ],
      "metadata": {
        "colab": {
          "base_uri": "https://localhost:8080/"
        },
        "id": "9SFMYh_7k5VT",
        "outputId": "8d87775a-e03b-4e31-efe2-b378b0dcdc82"
      },
      "execution_count": 29,
      "outputs": [
        {
          "output_type": "stream",
          "name": "stdout",
          "text": [
            "95% Portfolio CVaR (Historical Simulation): $-59020.48\n",
            "95% Portfolio CVaR (Variance-Covariance): $-77741.08\n",
            "95% Portfolio CVaR (Monte Carlo): $-77741.08\n"
          ]
        }
      ]
    },
    {
      "cell_type": "code",
      "source": [
        "#Backtest VaR Model\n",
        "def backtest_var(returns, weights, var_estimates, confidence_level=0.95):\n",
        "    portfolio_returns = returns.dot(weights)\n",
        "    actual_exceedances = portfolio_returns[portfolio_returns < -var_estimates].count()\n",
        "    expected_exceedances = (1 - confidence_level) * len(portfolio_returns)\n",
        "\n",
        "    print(f\"Actual Exceedances: {actual_exceedances}\")\n",
        "    print(f\"Expected Exceedances: {expected_exceedances}\")\n",
        "\n",
        "    if actual_exceedances > expected_exceedances:\n",
        "        print(\"Warning: The VaR model underestimates the risk.\")\n",
        "    else:\n",
        "        print(\"The VaR model performs well.\")\n",
        "\n",
        "backtest_var(returns, optimal_weights, var_historical_95)"
      ],
      "metadata": {
        "colab": {
          "base_uri": "https://localhost:8080/"
        },
        "id": "F42wS90t_DEE",
        "outputId": "99adee2c-43a1-4fcb-e97f-5a633aa5d45c"
      },
      "execution_count": 41,
      "outputs": [
        {
          "output_type": "stream",
          "name": "stdout",
          "text": [
            "Actual Exceedances: 622\n",
            "Expected Exceedances: 33.95000000000003\n",
            "Warning: The VaR model underestimates the risk.\n"
          ]
        }
      ]
    },
    {
      "cell_type": "code",
      "source": [
        "# Stress Test the Portfolio with a price drop\n",
        "def stress_test_price_drop(data, weights, shock_percentage=-0.1):\n",
        "    # Apply a price drop to the stock prices\n",
        "    stressed_prices = data * (1 + shock_percentage)\n",
        "\n",
        "    # Recalculate returns from the stressed prices\n",
        "    stressed_returns = stressed_prices.pct_change().dropna()\n",
        "\n",
        "    # Recalculate VaR using historical simulation\n",
        "    var_stressed_95 = historical_var_portfolio(stressed_returns, weights, 0.95)\n",
        "\n",
        "    # Recalculate CVaR using the same historical simulation method\n",
        "    cvar_stressed_95 = cvar_portfolio(stressed_returns, weights, var_stressed_95)\n",
        "\n",
        "    print(f\"95% Portfolio VaR after {shock_percentage*100:.1f}% price drop: {var_stressed_95 * 100:.2f}%\")\n",
        "    print(f\"95% Portfolio CVaR after {shock_percentage*100:.1f}% price drop: {cvar_stressed_95 * 100:.2f}%\")\n",
        "\n",
        "# Example: Stress test with a 10% price drop\n",
        "stress_test_price_drop(data, optimal_weights, shock_percentage=-0.1)"
      ],
      "metadata": {
        "colab": {
          "base_uri": "https://localhost:8080/"
        },
        "id": "IrPFQPuCFild",
        "outputId": "cfa31247-6de3-464b-e4c2-fc09cc451e89"
      },
      "execution_count": 49,
      "outputs": [
        {
          "output_type": "stream",
          "name": "stdout",
          "text": [
            "95% Portfolio VaR after -10.0% price drop: -4.20%\n",
            "95% Portfolio CVaR after -10.0% price drop: -5.90%\n"
          ]
        }
      ]
    },
    {
      "cell_type": "code",
      "source": [],
      "metadata": {
        "id": "PCaWmzbDDcWK"
      },
      "execution_count": null,
      "outputs": []
    }
  ]
}